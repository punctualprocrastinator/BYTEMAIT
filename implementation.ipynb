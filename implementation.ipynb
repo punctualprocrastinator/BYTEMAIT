{
  "nbformat": 4,
  "nbformat_minor": 0,
  "metadata": {
    "colab": {
      "provenance": []
    },
    "kernelspec": {
      "name": "python3",
      "display_name": "Python 3"
    },
    "language_info": {
      "name": "python"
    }
  },
  "cells": [
    {
      "cell_type": "markdown",
      "source": [
        "# ***Problem statement***\n",
        "\n",
        "\n",
        "1.   you are provided with a .csv file which contains experience of the employee (in months) and the salary of the employee (in thousand).\n",
        "2.   Your task is to help the employer in predicting the salary he has to give to a employee based on his past experience\n",
        "3. For this you need to understand the basic principle and functionining of linear regression and complete the functions below.\n",
        "4. IT IS IMPORTANT TO COMPLETE EVERY BLOCK OF CODE IN THIS COLAB FILE ."
      ],
      "metadata": {
        "id": "KNIPiXrxZqfO"
      }
    },
    {
      "cell_type": "markdown",
      "source": [
        "# **Packages**"
      ],
      "metadata": {
        "id": "8qeCfaccZsaZ"
      }
    },
    {
      "cell_type": "code",
      "source": [
        "import numpy as np\n",
        "import pandas as pd\n",
        "import matplotlib.pyplot as plt\n",
        "import math\n",
        "import copy"
      ],
      "metadata": {
        "id": "ebvnIRpvMJYB"
      },
      "execution_count": 1,
      "outputs": []
    },
    {
      "cell_type": "markdown",
      "source": [
        " **import data file**\n",
        "\n",
        " **clean the data upto 2 decimal places for both experience and salary columns**\n",
        "\n",
        "**test size = 20%**\n",
        "\n",
        "**reshape the values by using concept of feature matrix**"
      ],
      "metadata": {
        "id": "N-X4Gc1vZ1uV"
      }
    },
    {
      "cell_type": "code",
      "source": [
        "from re import X\n",
        "\n",
        "#implement this code on your own\n",
        "data = pd.read_csv(\"ex.csv\")\n",
        "#  code starts here\n",
        "print(data.head())\n",
        "data['exp(in months)']=data[\"exp(in months)\"].round(2)\n",
        "data[\"salary(in thousands)\"]=data['salary(in thousands)'].round(2)\n",
        "print(data.head())\n",
        "train= data.sample(frac=0.8,random_state=0)\n",
        "test=data.drop(train.index)\n",
        "X_train=train['exp(in months)']\n",
        "y_train=train['salary(in thousands)']\n",
        "X_test=test['exp(in months)']\n",
        "y_test=test['salary(in thousands)']\n",
        "\n",
        "\n",
        "\n",
        "\n",
        "\n",
        "\n",
        "\n",
        "\n",
        "\n",
        "# code ends here"
      ],
      "metadata": {
        "id": "a0XfWVdgMVEi",
        "outputId": "e8f4ce74-7ce1-4055-d9e3-e93be717fd55",
        "colab": {
          "base_uri": "https://localhost:8080/"
        }
      },
      "execution_count": 4,
      "outputs": [
        {
          "output_type": "stream",
          "name": "stdout",
          "text": [
            "   exp(in months)  salary(in thousands)\n",
            "0       18.290293             16.521825\n",
            "1       17.023407             11.666234\n",
            "2       26.343613             23.167255\n",
            "3       19.105834             20.877145\n",
            "4       27.742516             23.166236\n",
            "   exp(in months)  salary(in thousands)\n",
            "0           18.29                 16.52\n",
            "1           17.02                 11.67\n",
            "2           26.34                 23.17\n",
            "3           19.11                 20.88\n",
            "4           27.74                 23.17\n"
          ]
        }
      ]
    },
    {
      "cell_type": "code",
      "source": [
        "# Run this code without making any changes\n",
        "\n",
        "\n",
        "# !!!!       IMP   !!!!!!!\n",
        "# X_train refers to the training data ( experience) for the model\n",
        "# y_train refers to the training data (salary )   for the model\n",
        "\n",
        "\n",
        "\n",
        "\n",
        "\n",
        "print(\"Type of x_train:\",type(X_train))\n",
        "print(\"First five elements of x_train are:\\n\", X_train[:5])\n",
        "print(\"Type of y_train:\",type(y_train))\n",
        "print(\"First five elements of y_train are:\\n\", y_train[:5])\n",
        "print ('The shape of x_train is:', X_train.shape)\n",
        "print ('The shape of y_train is: ', y_train.shape)\n",
        "print ('Number of training examples (m):', len(X_train))"
      ],
      "metadata": {
        "id": "k4SpESsHaBfV",
        "outputId": "dddd92cb-6acd-42d0-e456-290e3b5751ae",
        "colab": {
          "base_uri": "https://localhost:8080/"
        }
      },
      "execution_count": 5,
      "outputs": [
        {
          "output_type": "stream",
          "name": "stdout",
          "text": [
            "Type of x_train: <class 'pandas.core.series.Series'>\n",
            "First five elements of x_train are:\n",
            " 993    17.58\n",
            "859    48.85\n",
            "298    36.56\n",
            "553    44.37\n",
            "672    34.17\n",
            "Name: exp(in months), dtype: float64\n",
            "Type of y_train: <class 'pandas.core.series.Series'>\n",
            "First five elements of y_train are:\n",
            " 993    12.40\n",
            "859    42.64\n",
            "298    32.61\n",
            "553    42.60\n",
            "672    34.52\n",
            "Name: salary(in thousands), dtype: float64\n",
            "The shape of x_train is: (800,)\n",
            "The shape of y_train is:  (800,)\n",
            "Number of training examples (m): 800\n"
          ]
        }
      ]
    },
    {
      "cell_type": "markdown",
      "source": [
        " Plot the data using scatter plot\n",
        "\n"
      ],
      "metadata": {
        "id": "UbvfFHJeaLdt"
      }
    },
    {
      "cell_type": "code",
      "source": [
        "#plot data for visualisation\n",
        "\n",
        "###code starts here\n",
        "\n",
        "\n",
        "plt.scatter(X_train,y_train)\n",
        "plt.xlabel(\"X_train\")\n",
        "plt.ylabel(\"y_train\")\n",
        "plt.show()\n",
        "\n",
        "###code ends here"
      ],
      "metadata": {
        "id": "d2m_1Ls_NZEX",
        "outputId": "89213c67-7b50-4f28-da10-ee81460c6689",
        "colab": {
          "base_uri": "https://localhost:8080/",
          "height": 450
        }
      },
      "execution_count": 6,
      "outputs": [
        {
          "output_type": "display_data",
          "data": {
            "text/plain": [
              "<Figure size 640x480 with 1 Axes>"
            ],
            "image/png": "[encoded data removed]"
          },
          "metadata": {}
        }
      ]
    },
    {
      "cell_type": "markdown",
      "source": [
        "**Implementation 1**\n",
        "\n",
        "**complete the compute_cost() function below to compute the cost  𝐽(𝑤,𝑏)\n",
        " .**"
      ],
      "metadata": {
        "id": "Mvsnf95XaSUS"
      }
    },
    {
      "cell_type": "code",
      "source": [
        "from logging import error\n",
        "\n",
        "\n",
        "\n",
        "def compute_cost(x, y, w, b):\n",
        "    \"\"\"\n",
        "    Computes the cost function for linear regression.\n",
        "\n",
        "    Args:\n",
        "        x (ndarray): Shape (m,) Input to the model (experience in months)\n",
        "        y (ndarray): Shape (m,) Label (Actual salaries)\n",
        "        w, b (scalar): Parameters of the model\n",
        "\n",
        "    Returns\n",
        "        total_cost (float): The cost of using w,b as the parameters for linear regression\n",
        "               to fit the data points in x and y\n",
        "    \"\"\"\n",
        "    # number of training examples\n",
        "    m = x.shape[0]\n",
        "\n",
        "    # You need to return this variable correctly\n",
        "    total_cost = 0\n",
        "\n",
        "    ### START CODE HERE ###\n",
        "    y_pred=w*x+b\n",
        "    total_cost = (1 / (2 * m)) * np.sum((y-y_pred)**2)\n",
        "\n",
        "\n",
        "\n",
        "\n",
        "\n",
        "\n",
        "\n",
        "\n",
        "\n",
        "\n",
        "\n",
        "\n",
        "\n",
        "    ### END CODE HERE ###\n",
        "\n",
        "    return total_cost"
      ],
      "metadata": {
        "id": "5xjs02htOBkv"
      },
      "execution_count": 7,
      "outputs": []
    },
    {
      "cell_type": "code",
      "source": [
        "# Compute cost with some initial values for paramaters w, b\n",
        "# Do not change the values in this code , simply run this block\n",
        "initial_w = 0.9998\n",
        "initial_b = 1\n",
        "\n",
        "cost = compute_cost(X_train, y_train, initial_w, initial_b)\n",
        "print(type(cost))\n",
        "print(cost)\n",
        "\n",
        "\n",
        "#output for cost should be around 14.406"
      ],
      "metadata": {
        "id": "iSt1tnddOH9b",
        "outputId": "6fc27426-db05-49b4-f0d9-d0e438d63ebb",
        "colab": {
          "base_uri": "https://localhost:8080/"
        }
      },
      "execution_count": 8,
      "outputs": [
        {
          "output_type": "stream",
          "name": "stdout",
          "text": [
            "<class 'numpy.float64'>\n",
            "14.334245768380137\n"
          ]
        }
      ]
    },
    {
      "cell_type": "markdown",
      "source": [
        "**Imlementation 2**\n",
        "\n",
        "\n",
        "**implement a function called compute_gradient which calculates  ∂𝐽(𝑤)∂𝑤\n",
        " ,  ∂𝐽(𝑤)∂𝑏**"
      ],
      "metadata": {
        "id": "hHtMa0UxavUE"
      }
    },
    {
      "cell_type": "code",
      "source": [
        "def compute_gradient(x, y, w, b):\n",
        "    \"\"\"\n",
        "    Computes the gradient for linear regression\n",
        "    Args:\n",
        "      x (ndarray): Shape (m,) Input to the model (Population of cities)\n",
        "      y (ndarray): Shape (m,) Label (Actual profits for the cities)\n",
        "      w, b (scalar): Parameters of the model\n",
        "    Returns\n",
        "      dj_dw (scalar): The gradient of the cost w.r.t. the parameters w\n",
        "      dj_db (scalar): The gradient of the cost w.r.t. the parameter b\n",
        "     \"\"\"\n",
        "\n",
        "    # Number of training examples\n",
        "    m = x.shape[0]\n",
        "    dj_dw = 0\n",
        "    dj_db = 0\n",
        "\n",
        "    ### START CODE HERE ###\n",
        "    y_pred=w*x+b\n",
        "    errors = y_pred - y\n",
        "    # Calculate the gradients\n",
        "    dj_dw = (1 / m) * np.sum(errors * x)\n",
        "    dj_db = (1 / m) * np.sum(errors)\n",
        "\n",
        "\n",
        "\n",
        "\n",
        "\n",
        "\n",
        "\n",
        "\n",
        "\n",
        "\n",
        "\n",
        "\n",
        "    ### END CODE HERE ###\n",
        "\n",
        "    return dj_dw, dj_db"
      ],
      "metadata": {
        "id": "sPdeLd36OprD"
      },
      "execution_count": 9,
      "outputs": []
    },
    {
      "cell_type": "code",
      "source": [
        "initial_w = 0.998\n",
        "initial_b = 1\n",
        "\n",
        "tmp_dj_dw, tmp_dj_db = compute_gradient(X_train, y_train, initial_w, initial_b)\n",
        "print('Gradient at initial w, b (zeros):', tmp_dj_dw, tmp_dj_db)\n",
        "\n",
        "# output should be\n",
        "#Gradient at initial w, b (zeros): [22.08482317] [0.36802405]"
      ],
      "metadata": {
        "id": "HpFMpdz3apMN",
        "outputId": "2a2286a6-56ea-458b-9ea1-018aa44b414e",
        "colab": {
          "base_uri": "https://localhost:8080/"
        }
      },
      "execution_count": 10,
      "outputs": [
        {
          "output_type": "stream",
          "name": "stdout",
          "text": [
            "Gradient at initial w, b (zeros): 27.011937486249998 0.497912975\n"
          ]
        }
      ]
    },
    {
      "cell_type": "code",
      "source": [
        "test_w = 0.2\n",
        "test_b = 0.2\n",
        "tmp_dj_dw, tmp_dj_db = compute_gradient(X_train, y_train, test_w, test_b)\n",
        "\n",
        "print('Gradient at test w, b:', tmp_dj_dw, tmp_dj_db)\n",
        "\n",
        "#output should be\n",
        "#Gradient at test w, b: [-600.2060557] [-21.2052925]"
      ],
      "metadata": {
        "id": "LmTTHbvta8Jb",
        "outputId": "a911cd29-c3a1-46d8-e8e4-c6d26899f6c6",
        "colab": {
          "base_uri": "https://localhost:8080/"
        }
      },
      "execution_count": 11,
      "outputs": [
        {
          "output_type": "stream",
          "name": "stdout",
          "text": [
            "Gradient at test w, b: -601.00053 -21.164610000000003\n"
          ]
        }
      ]
    },
    {
      "cell_type": "markdown",
      "source": [
        "**!! do not change the below function just run it**"
      ],
      "metadata": {
        "id": "TicRvanCiaUd"
      }
    },
    {
      "cell_type": "code",
      "source": [
        "\n",
        "def gradient_descent(x, y, w_in, b_in, cost_function, gradient_function, alpha, num_iters):\n",
        "    m = len(x)\n",
        "    J_history = []\n",
        "    w_history = []\n",
        "    w = copy.deepcopy(w_in)\n",
        "    b = b_in\n",
        "    for i in range(num_iters):\n",
        "        dj_dw, dj_db = gradient_function(x, y, w, b )\n",
        "        w = w - alpha * dj_dw\n",
        "        b = b - alpha * dj_db\n",
        "        if i<100000:\n",
        "            cost =  cost_function(x, y, w, b)\n",
        "            J_history.append(cost)\n",
        "        if i% math.ceil(num_iters/10) == 0:\n",
        "            w_history.append(w)\n",
        "            print(f\"Iteration {i:4}: Cost {float(J_history[-1]):8.2f}   \")\n",
        "    return w, b, J_history, w_history"
      ],
      "metadata": {
        "id": "GE4SDXh4bB1X"
      },
      "execution_count": 12,
      "outputs": []
    },
    {
      "cell_type": "markdown",
      "source": [
        " **Now let's run the gradient descent algorithm above to learn the parameters for our dataset.**"
      ],
      "metadata": {
        "id": "Bc1f_EKlbGW4"
      }
    },
    {
      "cell_type": "code",
      "source": [
        "# you can alter the values of iterations, alpha to get the minimum cost and minimum values for w and b\n",
        "\n",
        "\n",
        "# initialize fitting parameters. Recall that the shape of w is (n,)\n",
        "initial_w = 0.\n",
        "initial_b = 0.\n",
        "\n",
        "# some gradient descent settings\n",
        "iterations = 25000\n",
        "alpha = 0.0001\n",
        "\n",
        "w,b,_,_ = gradient_descent(X_train ,y_train, initial_w, initial_b,\n",
        "                     compute_cost, compute_gradient, alpha, iterations)\n",
        "print(\"w,b found by gradient descent:\", w, b)"
      ],
      "metadata": {
        "id": "_hzhg0bdbGi9",
        "outputId": "d4e933e9-c6f8-40be-853b-5d028e055f17",
        "colab": {
          "base_uri": "https://localhost:8080/"
        }
      },
      "execution_count": 13,
      "outputs": [
        {
          "output_type": "stream",
          "name": "stdout",
          "text": [
            "Iteration    0: Cost   336.89   \n",
            "Iteration 2500: Cost    14.20   \n",
            "Iteration 5000: Cost    14.14   \n",
            "Iteration 7500: Cost    14.07   \n",
            "Iteration 10000: Cost    14.02   \n",
            "Iteration 12500: Cost    13.96   \n",
            "Iteration 15000: Cost    13.91   \n",
            "Iteration 17500: Cost    13.86   \n",
            "Iteration 20000: Cost    13.81   \n",
            "Iteration 22500: Cost    13.76   \n",
            "w,b found by gradient descent: 0.9556493473326878 1.1997212273421234\n"
          ]
        }
      ]
    },
    {
      "cell_type": "markdown",
      "source": [
        "**Train the model**"
      ],
      "metadata": {
        "id": "3cT9bBALbN_W"
      }
    },
    {
      "cell_type": "code",
      "source": [
        "# execute the code to predict the output values on the given imput of numpy arrays\n",
        "# do not alter the code just execute it\n",
        "m = X_train.shape[0]\n",
        "predicted = np.zeros(m)\n",
        "\n",
        "predicted = w * X_train + b\n",
        "print(predicted)"
      ],
      "metadata": {
        "id": "qAlMyoy1bOLi",
        "outputId": "cc3bbb29-d797-4030-b19a-e27c8e4e67aa",
        "colab": {
          "base_uri": "https://localhost:8080/"
        }
      },
      "execution_count": 14,
      "outputs": [
        {
          "output_type": "stream",
          "name": "stdout",
          "text": [
            "993    18.000037\n",
            "859    47.883192\n",
            "298    36.138261\n",
            "553    43.601883\n",
            "672    33.854259\n",
            "         ...    \n",
            "117    23.714820\n",
            "464    19.108590\n",
            "25     33.615347\n",
            "110    32.869941\n",
            "149    35.230394\n",
            "Name: exp(in months), Length: 800, dtype: float64\n"
          ]
        }
      ]
    },
    {
      "cell_type": "markdown",
      "source": [
        "**plot the predicted values to see the linear fit.**"
      ],
      "metadata": {
        "id": "XbgzCEZbi4rW"
      }
    },
    {
      "cell_type": "code",
      "source": [
        "# Plot the linear fit\n",
        "\n",
        "###code starts here\n",
        "\n",
        "import matplotlib.pyplot as plt\n",
        "\n",
        "plt.scatter(X_train, y_train, color = 'red')\n",
        "\n",
        "\n",
        "plt.plot(X_train,predicted, color = 'blue')\n",
        "\n",
        "plt.xlabel('experince in')\n",
        "plt.ylabel('')\n",
        "\n",
        "\n",
        "plt.show()\n",
        "\n",
        "\n",
        "\n",
        "\n",
        "\n",
        "\n",
        "\n",
        "\n",
        "\n",
        "\n",
        "\n",
        "\n",
        "\n",
        "###code ends here\n"
      ],
      "metadata": {
        "id": "PywvzENQbSW6",
        "outputId": "f71af1d5-bd27-421c-cc3c-b19ecf719e74",
        "colab": {
          "base_uri": "https://localhost:8080/",
          "height": 449
        }
      },
      "execution_count": 15,
      "outputs": [
        {
          "output_type": "display_data",
          "data": {
            "text/plain": [
              "<Figure size 640x480 with 1 Axes>"
            ],
            "image/png": "[encoded data removed]"
          },
          "metadata": {}
        }
      ]
    },
    {
      "cell_type": "markdown",
      "source": [
        "**output on input values**\n",
        "\n",
        "**Predict output on input values(in months) [17.0,50.0]**"
      ],
      "metadata": {
        "id": "tbAiwo3BbZIW"
      }
    },
    {
      "cell_type": "code",
      "source": [
        "###code starts here\n",
        "v=np.array([17.0,50.0])\n",
        "d=w*v+b\n",
        "print(d)\n",
        "###code ends here"
      ],
      "metadata": {
        "id": "tbV22QAIbbtU",
        "outputId": "91c65c7d-875c-4e6c-91e3-6ce10d277376",
        "colab": {
          "base_uri": "https://localhost:8080/"
        }
      },
      "execution_count": 17,
      "outputs": [
        {
          "output_type": "stream",
          "name": "stdout",
          "text": [
            "[17.44576013 48.98218859]\n"
          ]
        }
      ]
    },
    {
      "cell_type": "code",
      "source": [],
      "metadata": {
        "id": "iw4B7HY0HKht"
      },
      "execution_count": null,
      "outputs": []
    }
  ]
}